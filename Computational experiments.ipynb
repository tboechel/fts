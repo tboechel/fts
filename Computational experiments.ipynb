


!pip3 install -U git+https://github.com/petroniocandido/pyFTS

External libraries import

import warnings
warnings.filterwarnings('ignore')

import numpy as np
import pandas as pd

from statsmodels.tsa.stattools import adfuller
from statsmodels.graphics.tsaplots import plot_acf, plot_pacf

%matplotlib notebook
